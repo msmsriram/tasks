{
  "nbformat": 4,
  "nbformat_minor": 0,
  "metadata": {
    "colab": {
      "provenance": []
    },
    "kernelspec": {
      "name": "python3",
      "display_name": "Python 3"
    },
    "language_info": {
      "name": "python"
    }
  },
  "cells": [
    {
      "cell_type": "code",
      "execution_count": 1,
      "metadata": {
        "id": "bJ56yJdD-9Vn"
      },
      "outputs": [],
      "source": [
        "import pandas as pd"
      ]
    },
    {
      "cell_type": "code",
      "source": [
        "df=pd.read_csv('/content/drive/MyDrive/Tasks/Video Games Sales.csv')"
      ],
      "metadata": {
        "id": "BGDFfVIzAw0f"
      },
      "execution_count": 2,
      "outputs": []
    },
    {
      "cell_type": "markdown",
      "source": [
        "#**preprocessing the data**"
      ],
      "metadata": {
        "id": "4TnGvzbFDnVp"
      }
    },
    {
      "cell_type": "code",
      "source": [
        "df.info"
      ],
      "metadata": {
        "colab": {
          "base_uri": "https://localhost:8080/"
        },
        "id": "_Yc_SqYEA3Nv",
        "outputId": "b91264e3-ca64-4814-c0e2-a942f0399efb"
      },
      "execution_count": 5,
      "outputs": [
        {
          "output_type": "execute_result",
          "data": {
            "text/plain": [
              "<bound method DataFrame.info of       index  Rank                        Game Title Platform    Year  \\\n",
              "0         0     1                        Wii Sports      Wii  2006.0   \n",
              "1         1     2                 Super Mario Bros.      NES  1985.0   \n",
              "2         2     3                    Mario Kart Wii      Wii  2008.0   \n",
              "3         3     4                 Wii Sports Resort      Wii  2009.0   \n",
              "4         4     5                            Tetris       GB  1989.0   \n",
              "...     ...   ...                               ...      ...     ...   \n",
              "1902   1902  1903  Lizzie McGuire 2: Lizzie Diaries      GBA  2004.0   \n",
              "1903   1903  1904              Xenoblade Chronicles      Wii  2010.0   \n",
              "1904   1904  1905                     SingStar Abba      PS3  2008.0   \n",
              "1905   1905  1906    FIFA Soccer World Championship      PS2  2000.0   \n",
              "1906   1906  1907        WWE SmackDown vs. Raw 2011     X360  2010.0   \n",
              "\n",
              "             Genre                    Publisher  North America  Europe  Japan  \\\n",
              "0           Sports                     Nintendo          40.43   28.39   3.77   \n",
              "1         Platform                     Nintendo          29.08    3.58   6.81   \n",
              "2           Racing                     Nintendo          14.50   12.22   3.63   \n",
              "3           Sports                     Nintendo          14.82   10.51   3.18   \n",
              "4           Puzzle                     Nintendo          23.20    2.26   4.22   \n",
              "...            ...                          ...            ...     ...    ...   \n",
              "1902        Action   Disney Interactive Studios           0.60    0.22   0.00   \n",
              "1903  Role-Playing                     Nintendo           0.39    0.22   0.16   \n",
              "1904          Misc  Sony Computer Entertainment           0.25    0.44   0.00   \n",
              "1905        Sports              Electronic Arts           0.27    0.21   0.28   \n",
              "1906      Fighting                          THQ           0.42    0.32   0.00   \n",
              "\n",
              "      Rest of World  Global  Review  \n",
              "0              8.54   81.12   76.28  \n",
              "1              0.77   40.24   91.00  \n",
              "2              3.21   33.55   82.07  \n",
              "3              3.01   31.52   82.65  \n",
              "4              0.58   30.26   88.00  \n",
              "...             ...     ...     ...  \n",
              "1902           0.01    0.83   55.00  \n",
              "1903           0.07    0.83   91.74  \n",
              "1904           0.14    0.83   73.00  \n",
              "1905           0.07    0.83   73.00  \n",
              "1906           0.09    0.83   82.00  \n",
              "\n",
              "[1907 rows x 13 columns]>"
            ]
          },
          "metadata": {},
          "execution_count": 5
        }
      ]
    },
    {
      "cell_type": "code",
      "source": [
        "df.shape"
      ],
      "metadata": {
        "colab": {
          "base_uri": "https://localhost:8080/"
        },
        "id": "MqbuxIn9A5tC",
        "outputId": "7b36fbb2-6829-438d-9258-5cb7e17f683c"
      },
      "execution_count": 6,
      "outputs": [
        {
          "output_type": "execute_result",
          "data": {
            "text/plain": [
              "(1907, 13)"
            ]
          },
          "metadata": {},
          "execution_count": 6
        }
      ]
    },
    {
      "cell_type": "code",
      "source": [
        "df.head()"
      ],
      "metadata": {
        "colab": {
          "base_uri": "https://localhost:8080/",
          "height": 206
        },
        "id": "VIxy-XyCBIQe",
        "outputId": "4b4bbbc1-5760-487f-d759-019d60c41fae"
      },
      "execution_count": 8,
      "outputs": [
        {
          "output_type": "execute_result",
          "data": {
            "text/plain": [
              "   index  Rank         Game Title Platform    Year     Genre Publisher  \\\n",
              "0      0     1         Wii Sports      Wii  2006.0    Sports  Nintendo   \n",
              "1      1     2  Super Mario Bros.      NES  1985.0  Platform  Nintendo   \n",
              "2      2     3     Mario Kart Wii      Wii  2008.0    Racing  Nintendo   \n",
              "3      3     4  Wii Sports Resort      Wii  2009.0    Sports  Nintendo   \n",
              "4      4     5             Tetris       GB  1989.0    Puzzle  Nintendo   \n",
              "\n",
              "   North America  Europe  Japan  Rest of World  Global  Review  \n",
              "0          40.43   28.39   3.77           8.54   81.12   76.28  \n",
              "1          29.08    3.58   6.81           0.77   40.24   91.00  \n",
              "2          14.50   12.22   3.63           3.21   33.55   82.07  \n",
              "3          14.82   10.51   3.18           3.01   31.52   82.65  \n",
              "4          23.20    2.26   4.22           0.58   30.26   88.00  "
            ],
            "text/html": [
              "\n",
              "  <div id=\"df-042bb74c-e33c-48ac-8c33-9c9081b763ff\" class=\"colab-df-container\">\n",
              "    <div>\n",
              "<style scoped>\n",
              "    .dataframe tbody tr th:only-of-type {\n",
              "        vertical-align: middle;\n",
              "    }\n",
              "\n",
              "    .dataframe tbody tr th {\n",
              "        vertical-align: top;\n",
              "    }\n",
              "\n",
              "    .dataframe thead th {\n",
              "        text-align: right;\n",
              "    }\n",
              "</style>\n",
              "<table border=\"1\" class=\"dataframe\">\n",
              "  <thead>\n",
              "    <tr style=\"text-align: right;\">\n",
              "      <th></th>\n",
              "      <th>index</th>\n",
              "      <th>Rank</th>\n",
              "      <th>Game Title</th>\n",
              "      <th>Platform</th>\n",
              "      <th>Year</th>\n",
              "      <th>Genre</th>\n",
              "      <th>Publisher</th>\n",
              "      <th>North America</th>\n",
              "      <th>Europe</th>\n",
              "      <th>Japan</th>\n",
              "      <th>Rest of World</th>\n",
              "      <th>Global</th>\n",
              "      <th>Review</th>\n",
              "    </tr>\n",
              "  </thead>\n",
              "  <tbody>\n",
              "    <tr>\n",
              "      <th>0</th>\n",
              "      <td>0</td>\n",
              "      <td>1</td>\n",
              "      <td>Wii Sports</td>\n",
              "      <td>Wii</td>\n",
              "      <td>2006.0</td>\n",
              "      <td>Sports</td>\n",
              "      <td>Nintendo</td>\n",
              "      <td>40.43</td>\n",
              "      <td>28.39</td>\n",
              "      <td>3.77</td>\n",
              "      <td>8.54</td>\n",
              "      <td>81.12</td>\n",
              "      <td>76.28</td>\n",
              "    </tr>\n",
              "    <tr>\n",
              "      <th>1</th>\n",
              "      <td>1</td>\n",
              "      <td>2</td>\n",
              "      <td>Super Mario Bros.</td>\n",
              "      <td>NES</td>\n",
              "      <td>1985.0</td>\n",
              "      <td>Platform</td>\n",
              "      <td>Nintendo</td>\n",
              "      <td>29.08</td>\n",
              "      <td>3.58</td>\n",
              "      <td>6.81</td>\n",
              "      <td>0.77</td>\n",
              "      <td>40.24</td>\n",
              "      <td>91.00</td>\n",
              "    </tr>\n",
              "    <tr>\n",
              "      <th>2</th>\n",
              "      <td>2</td>\n",
              "      <td>3</td>\n",
              "      <td>Mario Kart Wii</td>\n",
              "      <td>Wii</td>\n",
              "      <td>2008.0</td>\n",
              "      <td>Racing</td>\n",
              "      <td>Nintendo</td>\n",
              "      <td>14.50</td>\n",
              "      <td>12.22</td>\n",
              "      <td>3.63</td>\n",
              "      <td>3.21</td>\n",
              "      <td>33.55</td>\n",
              "      <td>82.07</td>\n",
              "    </tr>\n",
              "    <tr>\n",
              "      <th>3</th>\n",
              "      <td>3</td>\n",
              "      <td>4</td>\n",
              "      <td>Wii Sports Resort</td>\n",
              "      <td>Wii</td>\n",
              "      <td>2009.0</td>\n",
              "      <td>Sports</td>\n",
              "      <td>Nintendo</td>\n",
              "      <td>14.82</td>\n",
              "      <td>10.51</td>\n",
              "      <td>3.18</td>\n",
              "      <td>3.01</td>\n",
              "      <td>31.52</td>\n",
              "      <td>82.65</td>\n",
              "    </tr>\n",
              "    <tr>\n",
              "      <th>4</th>\n",
              "      <td>4</td>\n",
              "      <td>5</td>\n",
              "      <td>Tetris</td>\n",
              "      <td>GB</td>\n",
              "      <td>1989.0</td>\n",
              "      <td>Puzzle</td>\n",
              "      <td>Nintendo</td>\n",
              "      <td>23.20</td>\n",
              "      <td>2.26</td>\n",
              "      <td>4.22</td>\n",
              "      <td>0.58</td>\n",
              "      <td>30.26</td>\n",
              "      <td>88.00</td>\n",
              "    </tr>\n",
              "  </tbody>\n",
              "</table>\n",
              "</div>\n",
              "    <div class=\"colab-df-buttons\">\n",
              "\n",
              "  <div class=\"colab-df-container\">\n",
              "    <button class=\"colab-df-convert\" onclick=\"convertToInteractive('df-042bb74c-e33c-48ac-8c33-9c9081b763ff')\"\n",
              "            title=\"Convert this dataframe to an interactive table.\"\n",
              "            style=\"display:none;\">\n",
              "\n",
              "  <svg xmlns=\"http://www.w3.org/2000/svg\" height=\"24px\" viewBox=\"0 -960 960 960\">\n",
              "    <path d=\"M120-120v-720h720v720H120Zm60-500h600v-160H180v160Zm220 220h160v-160H400v160Zm0 220h160v-160H400v160ZM180-400h160v-160H180v160Zm440 0h160v-160H620v160ZM180-180h160v-160H180v160Zm440 0h160v-160H620v160Z\"/>\n",
              "  </svg>\n",
              "    </button>\n",
              "\n",
              "  <style>\n",
              "    .colab-df-container {\n",
              "      display:flex;\n",
              "      gap: 12px;\n",
              "    }\n",
              "\n",
              "    .colab-df-convert {\n",
              "      background-color: #E8F0FE;\n",
              "      border: none;\n",
              "      border-radius: 50%;\n",
              "      cursor: pointer;\n",
              "      display: none;\n",
              "      fill: #1967D2;\n",
              "      height: 32px;\n",
              "      padding: 0 0 0 0;\n",
              "      width: 32px;\n",
              "    }\n",
              "\n",
              "    .colab-df-convert:hover {\n",
              "      background-color: #E2EBFA;\n",
              "      box-shadow: 0px 1px 2px rgba(60, 64, 67, 0.3), 0px 1px 3px 1px rgba(60, 64, 67, 0.15);\n",
              "      fill: #174EA6;\n",
              "    }\n",
              "\n",
              "    .colab-df-buttons div {\n",
              "      margin-bottom: 4px;\n",
              "    }\n",
              "\n",
              "    [theme=dark] .colab-df-convert {\n",
              "      background-color: #3B4455;\n",
              "      fill: #D2E3FC;\n",
              "    }\n",
              "\n",
              "    [theme=dark] .colab-df-convert:hover {\n",
              "      background-color: #434B5C;\n",
              "      box-shadow: 0px 1px 3px 1px rgba(0, 0, 0, 0.15);\n",
              "      filter: drop-shadow(0px 1px 2px rgba(0, 0, 0, 0.3));\n",
              "      fill: #FFFFFF;\n",
              "    }\n",
              "  </style>\n",
              "\n",
              "    <script>\n",
              "      const buttonEl =\n",
              "        document.querySelector('#df-042bb74c-e33c-48ac-8c33-9c9081b763ff button.colab-df-convert');\n",
              "      buttonEl.style.display =\n",
              "        google.colab.kernel.accessAllowed ? 'block' : 'none';\n",
              "\n",
              "      async function convertToInteractive(key) {\n",
              "        const element = document.querySelector('#df-042bb74c-e33c-48ac-8c33-9c9081b763ff');\n",
              "        const dataTable =\n",
              "          await google.colab.kernel.invokeFunction('convertToInteractive',\n",
              "                                                    [key], {});\n",
              "        if (!dataTable) return;\n",
              "\n",
              "        const docLinkHtml = 'Like what you see? Visit the ' +\n",
              "          '<a target=\"_blank\" href=https://colab.research.google.com/notebooks/data_table.ipynb>data table notebook</a>'\n",
              "          + ' to learn more about interactive tables.';\n",
              "        element.innerHTML = '';\n",
              "        dataTable['output_type'] = 'display_data';\n",
              "        await google.colab.output.renderOutput(dataTable, element);\n",
              "        const docLink = document.createElement('div');\n",
              "        docLink.innerHTML = docLinkHtml;\n",
              "        element.appendChild(docLink);\n",
              "      }\n",
              "    </script>\n",
              "  </div>\n",
              "\n",
              "\n",
              "<div id=\"df-117e4333-7085-4a82-b300-c4fc126e338a\">\n",
              "  <button class=\"colab-df-quickchart\" onclick=\"quickchart('df-117e4333-7085-4a82-b300-c4fc126e338a')\"\n",
              "            title=\"Suggest charts.\"\n",
              "            style=\"display:none;\">\n",
              "\n",
              "<svg xmlns=\"http://www.w3.org/2000/svg\" height=\"24px\"viewBox=\"0 0 24 24\"\n",
              "     width=\"24px\">\n",
              "    <g>\n",
              "        <path d=\"M19 3H5c-1.1 0-2 .9-2 2v14c0 1.1.9 2 2 2h14c1.1 0 2-.9 2-2V5c0-1.1-.9-2-2-2zM9 17H7v-7h2v7zm4 0h-2V7h2v10zm4 0h-2v-4h2v4z\"/>\n",
              "    </g>\n",
              "</svg>\n",
              "  </button>\n",
              "\n",
              "<style>\n",
              "  .colab-df-quickchart {\n",
              "      --bg-color: #E8F0FE;\n",
              "      --fill-color: #1967D2;\n",
              "      --hover-bg-color: #E2EBFA;\n",
              "      --hover-fill-color: #174EA6;\n",
              "      --disabled-fill-color: #AAA;\n",
              "      --disabled-bg-color: #DDD;\n",
              "  }\n",
              "\n",
              "  [theme=dark] .colab-df-quickchart {\n",
              "      --bg-color: #3B4455;\n",
              "      --fill-color: #D2E3FC;\n",
              "      --hover-bg-color: #434B5C;\n",
              "      --hover-fill-color: #FFFFFF;\n",
              "      --disabled-bg-color: #3B4455;\n",
              "      --disabled-fill-color: #666;\n",
              "  }\n",
              "\n",
              "  .colab-df-quickchart {\n",
              "    background-color: var(--bg-color);\n",
              "    border: none;\n",
              "    border-radius: 50%;\n",
              "    cursor: pointer;\n",
              "    display: none;\n",
              "    fill: var(--fill-color);\n",
              "    height: 32px;\n",
              "    padding: 0;\n",
              "    width: 32px;\n",
              "  }\n",
              "\n",
              "  .colab-df-quickchart:hover {\n",
              "    background-color: var(--hover-bg-color);\n",
              "    box-shadow: 0 1px 2px rgba(60, 64, 67, 0.3), 0 1px 3px 1px rgba(60, 64, 67, 0.15);\n",
              "    fill: var(--button-hover-fill-color);\n",
              "  }\n",
              "\n",
              "  .colab-df-quickchart-complete:disabled,\n",
              "  .colab-df-quickchart-complete:disabled:hover {\n",
              "    background-color: var(--disabled-bg-color);\n",
              "    fill: var(--disabled-fill-color);\n",
              "    box-shadow: none;\n",
              "  }\n",
              "\n",
              "  .colab-df-spinner {\n",
              "    border: 2px solid var(--fill-color);\n",
              "    border-color: transparent;\n",
              "    border-bottom-color: var(--fill-color);\n",
              "    animation:\n",
              "      spin 1s steps(1) infinite;\n",
              "  }\n",
              "\n",
              "  @keyframes spin {\n",
              "    0% {\n",
              "      border-color: transparent;\n",
              "      border-bottom-color: var(--fill-color);\n",
              "      border-left-color: var(--fill-color);\n",
              "    }\n",
              "    20% {\n",
              "      border-color: transparent;\n",
              "      border-left-color: var(--fill-color);\n",
              "      border-top-color: var(--fill-color);\n",
              "    }\n",
              "    30% {\n",
              "      border-color: transparent;\n",
              "      border-left-color: var(--fill-color);\n",
              "      border-top-color: var(--fill-color);\n",
              "      border-right-color: var(--fill-color);\n",
              "    }\n",
              "    40% {\n",
              "      border-color: transparent;\n",
              "      border-right-color: var(--fill-color);\n",
              "      border-top-color: var(--fill-color);\n",
              "    }\n",
              "    60% {\n",
              "      border-color: transparent;\n",
              "      border-right-color: var(--fill-color);\n",
              "    }\n",
              "    80% {\n",
              "      border-color: transparent;\n",
              "      border-right-color: var(--fill-color);\n",
              "      border-bottom-color: var(--fill-color);\n",
              "    }\n",
              "    90% {\n",
              "      border-color: transparent;\n",
              "      border-bottom-color: var(--fill-color);\n",
              "    }\n",
              "  }\n",
              "</style>\n",
              "\n",
              "  <script>\n",
              "    async function quickchart(key) {\n",
              "      const quickchartButtonEl =\n",
              "        document.querySelector('#' + key + ' button');\n",
              "      quickchartButtonEl.disabled = true;  // To prevent multiple clicks.\n",
              "      quickchartButtonEl.classList.add('colab-df-spinner');\n",
              "      try {\n",
              "        const charts = await google.colab.kernel.invokeFunction(\n",
              "            'suggestCharts', [key], {});\n",
              "      } catch (error) {\n",
              "        console.error('Error during call to suggestCharts:', error);\n",
              "      }\n",
              "      quickchartButtonEl.classList.remove('colab-df-spinner');\n",
              "      quickchartButtonEl.classList.add('colab-df-quickchart-complete');\n",
              "    }\n",
              "    (() => {\n",
              "      let quickchartButtonEl =\n",
              "        document.querySelector('#df-117e4333-7085-4a82-b300-c4fc126e338a button');\n",
              "      quickchartButtonEl.style.display =\n",
              "        google.colab.kernel.accessAllowed ? 'block' : 'none';\n",
              "    })();\n",
              "  </script>\n",
              "</div>\n",
              "    </div>\n",
              "  </div>\n"
            ]
          },
          "metadata": {},
          "execution_count": 8
        }
      ]
    },
    {
      "cell_type": "code",
      "source": [
        "print(df.isnull().sum())"
      ],
      "metadata": {
        "colab": {
          "base_uri": "https://localhost:8080/"
        },
        "id": "F7vpWKt6Bb6Y",
        "outputId": "9368a061-9e7b-4156-adaa-c1cf5ec8be7f"
      },
      "execution_count": 9,
      "outputs": [
        {
          "output_type": "stream",
          "name": "stdout",
          "text": [
            "index             0\n",
            "Rank              0\n",
            "Game Title        0\n",
            "Platform          0\n",
            "Year             29\n",
            "Genre             0\n",
            "Publisher         2\n",
            "North America     0\n",
            "Europe            0\n",
            "Japan             0\n",
            "Rest of World     0\n",
            "Global            0\n",
            "Review            0\n",
            "dtype: int64\n"
          ]
        }
      ]
    },
    {
      "cell_type": "code",
      "source": [
        "df.dropna()"
      ],
      "metadata": {
        "colab": {
          "base_uri": "https://localhost:8080/",
          "height": 527
        },
        "id": "rYF-KfUhCx3s",
        "outputId": "457d7034-ae6a-430e-d026-cb1287407473"
      },
      "execution_count": 10,
      "outputs": [
        {
          "output_type": "execute_result",
          "data": {
            "text/plain": [
              "      index  Rank                        Game Title Platform    Year  \\\n",
              "0         0     1                        Wii Sports      Wii  2006.0   \n",
              "1         1     2                 Super Mario Bros.      NES  1985.0   \n",
              "2         2     3                    Mario Kart Wii      Wii  2008.0   \n",
              "3         3     4                 Wii Sports Resort      Wii  2009.0   \n",
              "4         4     5                            Tetris       GB  1989.0   \n",
              "...     ...   ...                               ...      ...     ...   \n",
              "1902   1902  1903  Lizzie McGuire 2: Lizzie Diaries      GBA  2004.0   \n",
              "1903   1903  1904              Xenoblade Chronicles      Wii  2010.0   \n",
              "1904   1904  1905                     SingStar Abba      PS3  2008.0   \n",
              "1905   1905  1906    FIFA Soccer World Championship      PS2  2000.0   \n",
              "1906   1906  1907        WWE SmackDown vs. Raw 2011     X360  2010.0   \n",
              "\n",
              "             Genre                    Publisher  North America  Europe  Japan  \\\n",
              "0           Sports                     Nintendo          40.43   28.39   3.77   \n",
              "1         Platform                     Nintendo          29.08    3.58   6.81   \n",
              "2           Racing                     Nintendo          14.50   12.22   3.63   \n",
              "3           Sports                     Nintendo          14.82   10.51   3.18   \n",
              "4           Puzzle                     Nintendo          23.20    2.26   4.22   \n",
              "...            ...                          ...            ...     ...    ...   \n",
              "1902        Action   Disney Interactive Studios           0.60    0.22   0.00   \n",
              "1903  Role-Playing                     Nintendo           0.39    0.22   0.16   \n",
              "1904          Misc  Sony Computer Entertainment           0.25    0.44   0.00   \n",
              "1905        Sports              Electronic Arts           0.27    0.21   0.28   \n",
              "1906      Fighting                          THQ           0.42    0.32   0.00   \n",
              "\n",
              "      Rest of World  Global  Review  \n",
              "0              8.54   81.12   76.28  \n",
              "1              0.77   40.24   91.00  \n",
              "2              3.21   33.55   82.07  \n",
              "3              3.01   31.52   82.65  \n",
              "4              0.58   30.26   88.00  \n",
              "...             ...     ...     ...  \n",
              "1902           0.01    0.83   55.00  \n",
              "1903           0.07    0.83   91.74  \n",
              "1904           0.14    0.83   73.00  \n",
              "1905           0.07    0.83   73.00  \n",
              "1906           0.09    0.83   82.00  \n",
              "\n",
              "[1878 rows x 13 columns]"
            ],
            "text/html": [
              "\n",
              "  <div id=\"df-8a6216bf-ace9-4d5f-8088-579c6e240c8e\" class=\"colab-df-container\">\n",
              "    <div>\n",
              "<style scoped>\n",
              "    .dataframe tbody tr th:only-of-type {\n",
              "        vertical-align: middle;\n",
              "    }\n",
              "\n",
              "    .dataframe tbody tr th {\n",
              "        vertical-align: top;\n",
              "    }\n",
              "\n",
              "    .dataframe thead th {\n",
              "        text-align: right;\n",
              "    }\n",
              "</style>\n",
              "<table border=\"1\" class=\"dataframe\">\n",
              "  <thead>\n",
              "    <tr style=\"text-align: right;\">\n",
              "      <th></th>\n",
              "      <th>index</th>\n",
              "      <th>Rank</th>\n",
              "      <th>Game Title</th>\n",
              "      <th>Platform</th>\n",
              "      <th>Year</th>\n",
              "      <th>Genre</th>\n",
              "      <th>Publisher</th>\n",
              "      <th>North America</th>\n",
              "      <th>Europe</th>\n",
              "      <th>Japan</th>\n",
              "      <th>Rest of World</th>\n",
              "      <th>Global</th>\n",
              "      <th>Review</th>\n",
              "    </tr>\n",
              "  </thead>\n",
              "  <tbody>\n",
              "    <tr>\n",
              "      <th>0</th>\n",
              "      <td>0</td>\n",
              "      <td>1</td>\n",
              "      <td>Wii Sports</td>\n",
              "      <td>Wii</td>\n",
              "      <td>2006.0</td>\n",
              "      <td>Sports</td>\n",
              "      <td>Nintendo</td>\n",
              "      <td>40.43</td>\n",
              "      <td>28.39</td>\n",
              "      <td>3.77</td>\n",
              "      <td>8.54</td>\n",
              "      <td>81.12</td>\n",
              "      <td>76.28</td>\n",
              "    </tr>\n",
              "    <tr>\n",
              "      <th>1</th>\n",
              "      <td>1</td>\n",
              "      <td>2</td>\n",
              "      <td>Super Mario Bros.</td>\n",
              "      <td>NES</td>\n",
              "      <td>1985.0</td>\n",
              "      <td>Platform</td>\n",
              "      <td>Nintendo</td>\n",
              "      <td>29.08</td>\n",
              "      <td>3.58</td>\n",
              "      <td>6.81</td>\n",
              "      <td>0.77</td>\n",
              "      <td>40.24</td>\n",
              "      <td>91.00</td>\n",
              "    </tr>\n",
              "    <tr>\n",
              "      <th>2</th>\n",
              "      <td>2</td>\n",
              "      <td>3</td>\n",
              "      <td>Mario Kart Wii</td>\n",
              "      <td>Wii</td>\n",
              "      <td>2008.0</td>\n",
              "      <td>Racing</td>\n",
              "      <td>Nintendo</td>\n",
              "      <td>14.50</td>\n",
              "      <td>12.22</td>\n",
              "      <td>3.63</td>\n",
              "      <td>3.21</td>\n",
              "      <td>33.55</td>\n",
              "      <td>82.07</td>\n",
              "    </tr>\n",
              "    <tr>\n",
              "      <th>3</th>\n",
              "      <td>3</td>\n",
              "      <td>4</td>\n",
              "      <td>Wii Sports Resort</td>\n",
              "      <td>Wii</td>\n",
              "      <td>2009.0</td>\n",
              "      <td>Sports</td>\n",
              "      <td>Nintendo</td>\n",
              "      <td>14.82</td>\n",
              "      <td>10.51</td>\n",
              "      <td>3.18</td>\n",
              "      <td>3.01</td>\n",
              "      <td>31.52</td>\n",
              "      <td>82.65</td>\n",
              "    </tr>\n",
              "    <tr>\n",
              "      <th>4</th>\n",
              "      <td>4</td>\n",
              "      <td>5</td>\n",
              "      <td>Tetris</td>\n",
              "      <td>GB</td>\n",
              "      <td>1989.0</td>\n",
              "      <td>Puzzle</td>\n",
              "      <td>Nintendo</td>\n",
              "      <td>23.20</td>\n",
              "      <td>2.26</td>\n",
              "      <td>4.22</td>\n",
              "      <td>0.58</td>\n",
              "      <td>30.26</td>\n",
              "      <td>88.00</td>\n",
              "    </tr>\n",
              "    <tr>\n",
              "      <th>...</th>\n",
              "      <td>...</td>\n",
              "      <td>...</td>\n",
              "      <td>...</td>\n",
              "      <td>...</td>\n",
              "      <td>...</td>\n",
              "      <td>...</td>\n",
              "      <td>...</td>\n",
              "      <td>...</td>\n",
              "      <td>...</td>\n",
              "      <td>...</td>\n",
              "      <td>...</td>\n",
              "      <td>...</td>\n",
              "      <td>...</td>\n",
              "    </tr>\n",
              "    <tr>\n",
              "      <th>1902</th>\n",
              "      <td>1902</td>\n",
              "      <td>1903</td>\n",
              "      <td>Lizzie McGuire 2: Lizzie Diaries</td>\n",
              "      <td>GBA</td>\n",
              "      <td>2004.0</td>\n",
              "      <td>Action</td>\n",
              "      <td>Disney Interactive Studios</td>\n",
              "      <td>0.60</td>\n",
              "      <td>0.22</td>\n",
              "      <td>0.00</td>\n",
              "      <td>0.01</td>\n",
              "      <td>0.83</td>\n",
              "      <td>55.00</td>\n",
              "    </tr>\n",
              "    <tr>\n",
              "      <th>1903</th>\n",
              "      <td>1903</td>\n",
              "      <td>1904</td>\n",
              "      <td>Xenoblade Chronicles</td>\n",
              "      <td>Wii</td>\n",
              "      <td>2010.0</td>\n",
              "      <td>Role-Playing</td>\n",
              "      <td>Nintendo</td>\n",
              "      <td>0.39</td>\n",
              "      <td>0.22</td>\n",
              "      <td>0.16</td>\n",
              "      <td>0.07</td>\n",
              "      <td>0.83</td>\n",
              "      <td>91.74</td>\n",
              "    </tr>\n",
              "    <tr>\n",
              "      <th>1904</th>\n",
              "      <td>1904</td>\n",
              "      <td>1905</td>\n",
              "      <td>SingStar Abba</td>\n",
              "      <td>PS3</td>\n",
              "      <td>2008.0</td>\n",
              "      <td>Misc</td>\n",
              "      <td>Sony Computer Entertainment</td>\n",
              "      <td>0.25</td>\n",
              "      <td>0.44</td>\n",
              "      <td>0.00</td>\n",
              "      <td>0.14</td>\n",
              "      <td>0.83</td>\n",
              "      <td>73.00</td>\n",
              "    </tr>\n",
              "    <tr>\n",
              "      <th>1905</th>\n",
              "      <td>1905</td>\n",
              "      <td>1906</td>\n",
              "      <td>FIFA Soccer World Championship</td>\n",
              "      <td>PS2</td>\n",
              "      <td>2000.0</td>\n",
              "      <td>Sports</td>\n",
              "      <td>Electronic Arts</td>\n",
              "      <td>0.27</td>\n",
              "      <td>0.21</td>\n",
              "      <td>0.28</td>\n",
              "      <td>0.07</td>\n",
              "      <td>0.83</td>\n",
              "      <td>73.00</td>\n",
              "    </tr>\n",
              "    <tr>\n",
              "      <th>1906</th>\n",
              "      <td>1906</td>\n",
              "      <td>1907</td>\n",
              "      <td>WWE SmackDown vs. Raw 2011</td>\n",
              "      <td>X360</td>\n",
              "      <td>2010.0</td>\n",
              "      <td>Fighting</td>\n",
              "      <td>THQ</td>\n",
              "      <td>0.42</td>\n",
              "      <td>0.32</td>\n",
              "      <td>0.00</td>\n",
              "      <td>0.09</td>\n",
              "      <td>0.83</td>\n",
              "      <td>82.00</td>\n",
              "    </tr>\n",
              "  </tbody>\n",
              "</table>\n",
              "<p>1878 rows × 13 columns</p>\n",
              "</div>\n",
              "    <div class=\"colab-df-buttons\">\n",
              "\n",
              "  <div class=\"colab-df-container\">\n",
              "    <button class=\"colab-df-convert\" onclick=\"convertToInteractive('df-8a6216bf-ace9-4d5f-8088-579c6e240c8e')\"\n",
              "            title=\"Convert this dataframe to an interactive table.\"\n",
              "            style=\"display:none;\">\n",
              "\n",
              "  <svg xmlns=\"http://www.w3.org/2000/svg\" height=\"24px\" viewBox=\"0 -960 960 960\">\n",
              "    <path d=\"M120-120v-720h720v720H120Zm60-500h600v-160H180v160Zm220 220h160v-160H400v160Zm0 220h160v-160H400v160ZM180-400h160v-160H180v160Zm440 0h160v-160H620v160ZM180-180h160v-160H180v160Zm440 0h160v-160H620v160Z\"/>\n",
              "  </svg>\n",
              "    </button>\n",
              "\n",
              "  <style>\n",
              "    .colab-df-container {\n",
              "      display:flex;\n",
              "      gap: 12px;\n",
              "    }\n",
              "\n",
              "    .colab-df-convert {\n",
              "      background-color: #E8F0FE;\n",
              "      border: none;\n",
              "      border-radius: 50%;\n",
              "      cursor: pointer;\n",
              "      display: none;\n",
              "      fill: #1967D2;\n",
              "      height: 32px;\n",
              "      padding: 0 0 0 0;\n",
              "      width: 32px;\n",
              "    }\n",
              "\n",
              "    .colab-df-convert:hover {\n",
              "      background-color: #E2EBFA;\n",
              "      box-shadow: 0px 1px 2px rgba(60, 64, 67, 0.3), 0px 1px 3px 1px rgba(60, 64, 67, 0.15);\n",
              "      fill: #174EA6;\n",
              "    }\n",
              "\n",
              "    .colab-df-buttons div {\n",
              "      margin-bottom: 4px;\n",
              "    }\n",
              "\n",
              "    [theme=dark] .colab-df-convert {\n",
              "      background-color: #3B4455;\n",
              "      fill: #D2E3FC;\n",
              "    }\n",
              "\n",
              "    [theme=dark] .colab-df-convert:hover {\n",
              "      background-color: #434B5C;\n",
              "      box-shadow: 0px 1px 3px 1px rgba(0, 0, 0, 0.15);\n",
              "      filter: drop-shadow(0px 1px 2px rgba(0, 0, 0, 0.3));\n",
              "      fill: #FFFFFF;\n",
              "    }\n",
              "  </style>\n",
              "\n",
              "    <script>\n",
              "      const buttonEl =\n",
              "        document.querySelector('#df-8a6216bf-ace9-4d5f-8088-579c6e240c8e button.colab-df-convert');\n",
              "      buttonEl.style.display =\n",
              "        google.colab.kernel.accessAllowed ? 'block' : 'none';\n",
              "\n",
              "      async function convertToInteractive(key) {\n",
              "        const element = document.querySelector('#df-8a6216bf-ace9-4d5f-8088-579c6e240c8e');\n",
              "        const dataTable =\n",
              "          await google.colab.kernel.invokeFunction('convertToInteractive',\n",
              "                                                    [key], {});\n",
              "        if (!dataTable) return;\n",
              "\n",
              "        const docLinkHtml = 'Like what you see? Visit the ' +\n",
              "          '<a target=\"_blank\" href=https://colab.research.google.com/notebooks/data_table.ipynb>data table notebook</a>'\n",
              "          + ' to learn more about interactive tables.';\n",
              "        element.innerHTML = '';\n",
              "        dataTable['output_type'] = 'display_data';\n",
              "        await google.colab.output.renderOutput(dataTable, element);\n",
              "        const docLink = document.createElement('div');\n",
              "        docLink.innerHTML = docLinkHtml;\n",
              "        element.appendChild(docLink);\n",
              "      }\n",
              "    </script>\n",
              "  </div>\n",
              "\n",
              "\n",
              "<div id=\"df-bf20c2c3-b046-4029-b297-8058981ecb86\">\n",
              "  <button class=\"colab-df-quickchart\" onclick=\"quickchart('df-bf20c2c3-b046-4029-b297-8058981ecb86')\"\n",
              "            title=\"Suggest charts.\"\n",
              "            style=\"display:none;\">\n",
              "\n",
              "<svg xmlns=\"http://www.w3.org/2000/svg\" height=\"24px\"viewBox=\"0 0 24 24\"\n",
              "     width=\"24px\">\n",
              "    <g>\n",
              "        <path d=\"M19 3H5c-1.1 0-2 .9-2 2v14c0 1.1.9 2 2 2h14c1.1 0 2-.9 2-2V5c0-1.1-.9-2-2-2zM9 17H7v-7h2v7zm4 0h-2V7h2v10zm4 0h-2v-4h2v4z\"/>\n",
              "    </g>\n",
              "</svg>\n",
              "  </button>\n",
              "\n",
              "<style>\n",
              "  .colab-df-quickchart {\n",
              "      --bg-color: #E8F0FE;\n",
              "      --fill-color: #1967D2;\n",
              "      --hover-bg-color: #E2EBFA;\n",
              "      --hover-fill-color: #174EA6;\n",
              "      --disabled-fill-color: #AAA;\n",
              "      --disabled-bg-color: #DDD;\n",
              "  }\n",
              "\n",
              "  [theme=dark] .colab-df-quickchart {\n",
              "      --bg-color: #3B4455;\n",
              "      --fill-color: #D2E3FC;\n",
              "      --hover-bg-color: #434B5C;\n",
              "      --hover-fill-color: #FFFFFF;\n",
              "      --disabled-bg-color: #3B4455;\n",
              "      --disabled-fill-color: #666;\n",
              "  }\n",
              "\n",
              "  .colab-df-quickchart {\n",
              "    background-color: var(--bg-color);\n",
              "    border: none;\n",
              "    border-radius: 50%;\n",
              "    cursor: pointer;\n",
              "    display: none;\n",
              "    fill: var(--fill-color);\n",
              "    height: 32px;\n",
              "    padding: 0;\n",
              "    width: 32px;\n",
              "  }\n",
              "\n",
              "  .colab-df-quickchart:hover {\n",
              "    background-color: var(--hover-bg-color);\n",
              "    box-shadow: 0 1px 2px rgba(60, 64, 67, 0.3), 0 1px 3px 1px rgba(60, 64, 67, 0.15);\n",
              "    fill: var(--button-hover-fill-color);\n",
              "  }\n",
              "\n",
              "  .colab-df-quickchart-complete:disabled,\n",
              "  .colab-df-quickchart-complete:disabled:hover {\n",
              "    background-color: var(--disabled-bg-color);\n",
              "    fill: var(--disabled-fill-color);\n",
              "    box-shadow: none;\n",
              "  }\n",
              "\n",
              "  .colab-df-spinner {\n",
              "    border: 2px solid var(--fill-color);\n",
              "    border-color: transparent;\n",
              "    border-bottom-color: var(--fill-color);\n",
              "    animation:\n",
              "      spin 1s steps(1) infinite;\n",
              "  }\n",
              "\n",
              "  @keyframes spin {\n",
              "    0% {\n",
              "      border-color: transparent;\n",
              "      border-bottom-color: var(--fill-color);\n",
              "      border-left-color: var(--fill-color);\n",
              "    }\n",
              "    20% {\n",
              "      border-color: transparent;\n",
              "      border-left-color: var(--fill-color);\n",
              "      border-top-color: var(--fill-color);\n",
              "    }\n",
              "    30% {\n",
              "      border-color: transparent;\n",
              "      border-left-color: var(--fill-color);\n",
              "      border-top-color: var(--fill-color);\n",
              "      border-right-color: var(--fill-color);\n",
              "    }\n",
              "    40% {\n",
              "      border-color: transparent;\n",
              "      border-right-color: var(--fill-color);\n",
              "      border-top-color: var(--fill-color);\n",
              "    }\n",
              "    60% {\n",
              "      border-color: transparent;\n",
              "      border-right-color: var(--fill-color);\n",
              "    }\n",
              "    80% {\n",
              "      border-color: transparent;\n",
              "      border-right-color: var(--fill-color);\n",
              "      border-bottom-color: var(--fill-color);\n",
              "    }\n",
              "    90% {\n",
              "      border-color: transparent;\n",
              "      border-bottom-color: var(--fill-color);\n",
              "    }\n",
              "  }\n",
              "</style>\n",
              "\n",
              "  <script>\n",
              "    async function quickchart(key) {\n",
              "      const quickchartButtonEl =\n",
              "        document.querySelector('#' + key + ' button');\n",
              "      quickchartButtonEl.disabled = true;  // To prevent multiple clicks.\n",
              "      quickchartButtonEl.classList.add('colab-df-spinner');\n",
              "      try {\n",
              "        const charts = await google.colab.kernel.invokeFunction(\n",
              "            'suggestCharts', [key], {});\n",
              "      } catch (error) {\n",
              "        console.error('Error during call to suggestCharts:', error);\n",
              "      }\n",
              "      quickchartButtonEl.classList.remove('colab-df-spinner');\n",
              "      quickchartButtonEl.classList.add('colab-df-quickchart-complete');\n",
              "    }\n",
              "    (() => {\n",
              "      let quickchartButtonEl =\n",
              "        document.querySelector('#df-bf20c2c3-b046-4029-b297-8058981ecb86 button');\n",
              "      quickchartButtonEl.style.display =\n",
              "        google.colab.kernel.accessAllowed ? 'block' : 'none';\n",
              "    })();\n",
              "  </script>\n",
              "</div>\n",
              "    </div>\n",
              "  </div>\n"
            ]
          },
          "metadata": {},
          "execution_count": 10
        }
      ]
    },
    {
      "cell_type": "code",
      "source": [
        "missing_values = df['Year'].isna().sum()"
      ],
      "metadata": {
        "id": "SCreyJXdE4XH"
      },
      "execution_count": 12,
      "outputs": []
    },
    {
      "cell_type": "code",
      "source": [
        "import pandas as pd\n",
        "import matplotlib.pyplot as plt\n",
        "import seaborn as sns\n"
      ],
      "metadata": {
        "id": "km7v8wGaEqIU"
      },
      "execution_count": 14,
      "outputs": []
    },
    {
      "cell_type": "markdown",
      "source": [
        "#Top Selling Games by Global Sales\n",
        "\n",
        "> Indented block\n",
        "\n"
      ],
      "metadata": {
        "id": "vgUISWvhH-GI"
      }
    },
    {
      "cell_type": "code",
      "source": [
        "top_games = df[['Game Title', 'Global']]\n",
        "top_games = top_games.sort_values(by='Global', ascending=False).head(10)"
      ],
      "metadata": {
        "id": "tXpFl0T1FfU-"
      },
      "execution_count": 16,
      "outputs": []
    },
    {
      "cell_type": "code",
      "source": [
        "print(top_games)"
      ],
      "metadata": {
        "colab": {
          "base_uri": "https://localhost:8080/"
        },
        "id": "UCDPRvgjF1QP",
        "outputId": "7fd36a2d-e038-4208-f062-e1009ae161b2"
      },
      "execution_count": 17,
      "outputs": [
        {
          "output_type": "stream",
          "name": "stdout",
          "text": [
            "                  Game Title  Global\n",
            "0                 Wii Sports   81.12\n",
            "1          Super Mario Bros.   40.24\n",
            "2             Mario Kart Wii   33.55\n",
            "3          Wii Sports Resort   31.52\n",
            "4                     Tetris   30.26\n",
            "5      New Super Mario Bros.   29.08\n",
            "6                   Wii Play   28.71\n",
            "7                  Duck Hunt   28.31\n",
            "8  New Super Mario Bros. Wii   26.75\n",
            "9                 Nintendogs   24.50\n"
          ]
        }
      ]
    },
    {
      "cell_type": "markdown",
      "source": [
        "In this analysis we can identify the games that have achieved the highest global sales, representing the most successful titles in the dataset"
      ],
      "metadata": {
        "id": "uUZBcOB2L473"
      }
    },
    {
      "cell_type": "markdown",
      "source": [
        "#visualizing the top selling game"
      ],
      "metadata": {
        "id": "JaxPLoI0F_6k"
      }
    },
    {
      "cell_type": "code",
      "source": [
        "plt.figure(figsize=(12, 6))\n",
        "sns.barplot(x='Global', y='Game Title', data=top_games, palette='viridis')\n",
        "plt.title('Top 10 Best-Selling Games Worldwide')\n",
        "plt.xlabel('Global Sales (in millions)')\n",
        "plt.ylabel('Game Title')\n",
        "plt.show()"
      ],
      "metadata": {
        "colab": {
          "base_uri": "https://localhost:8080/",
          "height": 541
        },
        "id": "FGgA0QI1F7bG",
        "outputId": "1cbd2046-60ac-454b-9c7a-29ed570d4dc4"
      },
      "execution_count": 18,
      "outputs": [
        {
          "output_type": "display_data",
          "data": {
            "text/plain": [
              "<Figure size 1200x600 with 1 Axes>"
            ],
            "image/png": "[encoded data removed]"
          },
          "metadata": {}
        }
      ]
    },
    {
      "cell_type": "markdown",
      "source": [
        "by create a visual representation of the top-selling game to provide a clear view of the highest-grossing title."
      ],
      "metadata": {
        "id": "36g2tH6_MGDk"
      }
    },
    {
      "cell_type": "markdown",
      "source": [
        "#distribution of game genres"
      ],
      "metadata": {
        "id": "pCFpqo3-GREk"
      }
    },
    {
      "cell_type": "code",
      "source": [
        "plt.figure(figsize=(12, 6))\n",
        "sns.countplot(x='Genre', data=df, palette='Set2')\n",
        "plt.title('distribution of game generes')\n",
        "plt.xticks(rotation=45)\n",
        "plt.xlabel('Genre')\n",
        "plt.ylabel('Number of Games')\n",
        "plt.show()"
      ],
      "metadata": {
        "colab": {
          "base_uri": "https://localhost:8080/",
          "height": 620
        },
        "id": "1Al8XqqwGFsA",
        "outputId": "77b13762-333c-4e55-c1e0-33d7a4f7dc5f"
      },
      "execution_count": 31,
      "outputs": [
        {
          "output_type": "display_data",
          "data": {
            "text/plain": [
              "<Figure size 1200x600 with 1 Axes>"
            ],
            "image/png": "[encoded data removed]"
          },
          "metadata": {}
        }
      ]
    },
    {
      "cell_type": "markdown",
      "source": [
        "Visualizing how games are distributed across different genres to gain insights into the variety of gaming experiences available."
      ],
      "metadata": {
        "id": "1nqw3zJXMgu-"
      }
    },
    {
      "cell_type": "markdown",
      "source": [
        "#determining the game genres are the most successful"
      ],
      "metadata": {
        "id": "CMi-DZ74I2TZ"
      }
    },
    {
      "cell_type": "code",
      "source": [
        "genre_sales = df.groupby('Genre')['Global'].mean().sort_values(ascending=False)\n",
        "print(genre_sales)"
      ],
      "metadata": {
        "colab": {
          "base_uri": "https://localhost:8080/"
        },
        "id": "1R-HWCMlGZFI",
        "outputId": "d67f1a26-35e0-4b0d-e697-2635ba5159f2"
      },
      "execution_count": 22,
      "outputs": [
        {
          "output_type": "stream",
          "name": "stdout",
          "text": [
            "Genre\n",
            "Platform        3.166170\n",
            "Role-Playing    2.868208\n",
            "Shooter         2.704854\n",
            "Misc            2.680000\n",
            "Puzzle          2.469318\n",
            "Racing          2.429032\n",
            "Action          2.317345\n",
            "Sports          2.282825\n",
            "Simulation      2.229783\n",
            "Adventure       2.176818\n",
            "Fighting        1.976190\n",
            "Strategy        1.945000\n",
            "Name: Global, dtype: float64\n"
          ]
        }
      ]
    },
    {
      "cell_type": "markdown",
      "source": [
        "Calculating the average global sales for each game genre to identify which genres tend to be the most successful in terms of sales."
      ],
      "metadata": {
        "id": "AefZSSAlNE1r"
      }
    },
    {
      "cell_type": "markdown",
      "source": [
        "#platform analysis"
      ],
      "metadata": {
        "id": "jFUoodK8JPgA"
      }
    },
    {
      "cell_type": "code",
      "source": [
        "platform_sales = df.groupby('Platform')['Global'].sum().sort_values(ascending=False)\n",
        "print(platform_sales)"
      ],
      "metadata": {
        "colab": {
          "base_uri": "https://localhost:8080/"
        },
        "id": "BCjJ0Iq6JB8N",
        "outputId": "c5875723-2cb6-46a9-b1cf-b8aae13a36fa"
      },
      "execution_count": 23,
      "outputs": [
        {
          "output_type": "stream",
          "name": "stdout",
          "text": [
            "Platform\n",
            "PS2     823.79\n",
            "Wii     590.16\n",
            "X360    545.70\n",
            "DS      453.79\n",
            "PS      450.15\n",
            "PS3     446.34\n",
            "NES     213.14\n",
            "GB      199.01\n",
            "PC      175.22\n",
            "GBA     160.37\n",
            "N64     147.47\n",
            "SNES    134.85\n",
            "PSP     110.22\n",
            "XB      110.13\n",
            "GC      103.13\n",
            "3DS      37.93\n",
            "GEN      26.79\n",
            "DC        8.84\n",
            "SAT       4.16\n",
            "WiiU      3.36\n",
            "SCD       1.50\n",
            "PSV       0.93\n",
            "Name: Global, dtype: float64\n"
          ]
        }
      ]
    },
    {
      "cell_type": "markdown",
      "source": [
        "Analyze which gaming platforms have historically hosted successful games helping to understand the platforms impact on a games success"
      ],
      "metadata": {
        "id": "d05UVrkuNVVU"
      }
    },
    {
      "cell_type": "markdown",
      "source": [
        "#publisher performance"
      ],
      "metadata": {
        "id": "xOp7OZnxJZ_s"
      }
    },
    {
      "cell_type": "code",
      "source": [
        "publisher_sales = df.groupby('Publisher')['Global'].sum().sort_values(ascending=False)\n",
        "print(publisher_sales)"
      ],
      "metadata": {
        "colab": {
          "base_uri": "https://localhost:8080/"
        },
        "id": "vj-7bz0JJTpz",
        "outputId": "5039d88e-3f1e-485c-b1fd-c9e1cfc95e11"
      },
      "execution_count": 25,
      "outputs": [
        {
          "output_type": "stream",
          "name": "stdout",
          "text": [
            "Publisher\n",
            "Nintendo                       1448.84\n",
            "Electronic Arts                 633.36\n",
            "Sony Computer Entertainment     377.61\n",
            "Activision                      371.42\n",
            "Take-Two Interactive            208.42\n",
            "                                ...   \n",
            "Crystal Dynamics                  0.87\n",
            "SCi                               0.87\n",
            "Rage Software                     0.86\n",
            "Mastertronic                      0.86\n",
            "Pinnacle                          0.85\n",
            "Name: Global, Length: 94, dtype: float64\n"
          ]
        }
      ]
    },
    {
      "cell_type": "markdown",
      "source": [
        "evaluate the performance of game publishers by examining their total global sales and highlighting publishers with a successful track record."
      ],
      "metadata": {
        "id": "JejamPElNnmG"
      }
    },
    {
      "cell_type": "markdown",
      "source": [
        "#Regional Success"
      ],
      "metadata": {
        "id": "I3MQcN7zLXx9"
      }
    },
    {
      "cell_type": "code",
      "source": [
        "average_na_sales = df['North America'].mean()\n",
        "average_eu_sales = df['Europe'].mean()\n",
        "average_jp_sales = df['Japan'].mean()\n",
        "average_rest_of_countries = df['Rest of World'].mean()\n",
        "print(f\"average sales in north america: {average_na_sales}\")\n",
        "print(f\"average sales in europ: {average_eu_sales}\")\n",
        "print(f\"average sales in japan: {average_jp_sales}\")\n",
        "print(f\"average sales in rest of the countries: {average_rest_of_countries}\")\n"
      ],
      "metadata": {
        "colab": {
          "base_uri": "https://localhost:8080/"
        },
        "id": "uLzOHUKNJ8_7",
        "outputId": "fdffa86b-0d5c-48c0-c8a0-a89663344ea9"
      },
      "execution_count": 29,
      "outputs": [
        {
          "output_type": "stream",
          "name": "stdout",
          "text": [
            "average sales in north america: 1.2587886733088622\n",
            "average sales in europ: 0.7066754063974829\n",
            "average sales in japan: 0.3174934452018878\n",
            "average sales in rest of the countries: 0.20647089669638174\n"
          ]
        }
      ]
    },
    {
      "cell_type": "markdown",
      "source": [
        "Investigate regional variations in game preferences and sales, providing insights into how games perform in North America, Europe, Japan, and the rest of the world.\n",
        "investigate regional variations in game preferences and sales, providing insights into how games perform in north america , europe,japan, and the rest of the countries"
      ],
      "metadata": {
        "id": "_FUbDOXtOO_N"
      }
    },
    {
      "cell_type": "markdown",
      "source": [
        "#success of game sequels and franchises"
      ],
      "metadata": {
        "id": "Q0Yv3PZmLddy"
      }
    },
    {
      "cell_type": "code",
      "source": [
        "# Identify and analyze sequels and franchises in the dataset\n",
        "sequels_and_franchises = df[df['Game Title'].str.contains('2') | df['Game Title'].str.contains('III') | df['Game Title'].str.contains('IV')]\n",
        "print(sequels_and_franchises[['Game Title', 'Global']])\n"
      ],
      "metadata": {
        "colab": {
          "base_uri": "https://localhost:8080/"
        },
        "id": "t-nO-HnKKGm3",
        "outputId": "50d72bfe-477c-4ad0-ee4a-877f8d95c6e1"
      },
      "execution_count": 30,
      "outputs": [
        {
          "output_type": "stream",
          "name": "stdout",
          "text": [
            "                                       Game Title  Global\n",
            "23    Brain Age 2: More Training in Minutes a Day   15.24\n",
            "29                           Grand Theft Auto III   13.10\n",
            "30                 Call of Duty: Modern Warfare 2   13.00\n",
            "41             Super Mario Land 2: 6 Golden Coins   11.18\n",
            "46                            Grand Theft Auto IV   10.18\n",
            "...                                           ...     ...\n",
            "1887                                      NBA 2K8    0.84\n",
            "1889                                Lost Planet 2    0.84\n",
            "1898                           Dynasty Warriors 2    0.83\n",
            "1902             Lizzie McGuire 2: Lizzie Diaries    0.83\n",
            "1906                   WWE SmackDown vs. Raw 2011    0.83\n",
            "\n",
            "[389 rows x 2 columns]\n"
          ]
        }
      ]
    },
    {
      "cell_type": "markdown",
      "source": [
        "by determing the success of game sequels and franchises , assessing whether these types of games tend to perform better in terms of global sales compared to original titles."
      ],
      "metadata": {
        "id": "1cwcX2RQOyqO"
      }
    },
    {
      "cell_type": "code",
      "source": [],
      "metadata": {
        "id": "SI3gSECPLRcG"
      },
      "execution_count": null,
      "outputs": []
    }
  ]
}